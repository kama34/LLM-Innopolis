{
  "cells": [
    {
      "cell_type": "markdown",
      "metadata": {
        "id": "73JHBwym-IfY"
      },
      "source": [
        "## Week 6 : Large Language Models\n",
        "```\n",
        "- Generative Artificial Intelligence (Fall semester 2023)\n",
        "- Professor: Muhammad Fahim\n",
        "- Teaching Assistant: Ahmad Taha\n",
        "```\n",
        "<hr>\n",
        "\n",
        "## Contents\n",
        "```\n",
        "1. Transformers (Implementing a transformer)\n",
        "2. Self-Attention\n",
        "3. Multi-headed attention\n",
        "4. Positional Encoding\n",
        "\n",
        "```\n",
        "\n",
        "<hr>\n"
      ]
    },
    {
      "cell_type": "markdown",
      "metadata": {
        "id": "ivBBW705o6JG"
      },
      "source": [
        "# Transformers\n",
        "\n",
        "* [Attention Is All You Need](https://arxiv.org/pdf/1706.03762.pdf) -- Original paper on attention\n",
        "\n",
        "![](http://jalammar.github.io/images/t/The_transformer_encoder_decoder_stack.png)\n"
      ]
    },
    {
      "cell_type": "code",
      "execution_count": null,
      "metadata": {
        "colab": {
          "base_uri": "https://localhost:8080/"
        },
        "id": "PkzgoQHBzCsS",
        "outputId": "cd5cb229-e10e-45c2-e63e-3415202244eb"
      },
      "outputs": [
        {
          "output_type": "execute_result",
          "data": {
            "text/plain": [
              "device(type='cuda')"
            ]
          },
          "metadata": {},
          "execution_count": 1
        }
      ],
      "source": [
        "import torch\n",
        "from torch import nn\n",
        "import torch.optim as optim\n",
        "import pandas as pd\n",
        "import numpy as np\n",
        "\n",
        "from torch.utils.data import DataLoader, TensorDataset\n",
        "\n",
        "device = torch.device('cuda' if torch.cuda.is_available() else 'cpu')\n",
        "device"
      ]
    },
    {
      "cell_type": "markdown",
      "metadata": {
        "id": "gqbWEqEG04nj"
      },
      "source": [
        "### Transformer Encoder with Pytorch"
      ]
    },
    {
      "cell_type": "code",
      "execution_count": null,
      "metadata": {
        "id": "bqvnRd4zASjV",
        "colab": {
          "base_uri": "https://localhost:8080/"
        },
        "outputId": "b03123ca-fe55-4e72-ea9e-8a418db709d0"
      },
      "outputs": [
        {
          "output_type": "stream",
          "name": "stderr",
          "text": [
            "/usr/local/lib/python3.10/dist-packages/torch/nn/modules/transformer.py:282: UserWarning: enable_nested_tensor is True, but self.use_nested_tensor is False because encoder_layer.self_attn.batch_first was not True(use batch_first for better inference performance)\n",
            "  warnings.warn(f\"enable_nested_tensor is True, but self.use_nested_tensor is False because {why_not_sparsity_fast_path}\")\n"
          ]
        }
      ],
      "source": [
        "encoder_layer = nn.TransformerEncoderLayer(d_model=512, nhead=32)\n",
        "transformer_encoder = nn.TransformerEncoder(encoder_layer, num_layers=3)"
      ]
    },
    {
      "cell_type": "code",
      "execution_count": null,
      "metadata": {
        "colab": {
          "base_uri": "https://localhost:8080/"
        },
        "id": "mmaOP-5BAiVG",
        "outputId": "6186f544-8b78-4bdb-d9bb-647a97e0ac78"
      },
      "outputs": [
        {
          "output_type": "execute_result",
          "data": {
            "text/plain": [
              "TransformerEncoderLayer(\n",
              "  (self_attn): MultiheadAttention(\n",
              "    (out_proj): NonDynamicallyQuantizableLinear(in_features=512, out_features=512, bias=True)\n",
              "  )\n",
              "  (linear1): Linear(in_features=512, out_features=2048, bias=True)\n",
              "  (dropout): Dropout(p=0.1, inplace=False)\n",
              "  (linear2): Linear(in_features=2048, out_features=512, bias=True)\n",
              "  (norm1): LayerNorm((512,), eps=1e-05, elementwise_affine=True)\n",
              "  (norm2): LayerNorm((512,), eps=1e-05, elementwise_affine=True)\n",
              "  (dropout1): Dropout(p=0.1, inplace=False)\n",
              "  (dropout2): Dropout(p=0.1, inplace=False)\n",
              ")"
            ]
          },
          "metadata": {},
          "execution_count": 6
        }
      ],
      "source": [
        "encoder_layer"
      ]
    },
    {
      "cell_type": "markdown",
      "metadata": {
        "id": "ETf4hBGZBmB6"
      },
      "source": [
        "## Encoder\n",
        "\n",
        "The encoder contains a self-attention layer – a layer that helps the encoder look at other words in the input sentence as it encodes a specific word. <br>\n",
        "**The main goal is to efficiently encode the data**\n",
        "\n",
        "![](http://jalammar.github.io/images/t/encoder_with_tensors.png)"
      ]
    },
    {
      "cell_type": "markdown",
      "metadata": {
        "id": "7MQv6sV8CHcb"
      },
      "source": [
        "## Self-Attention\n",
        "\n",
        "**Keep in mind : The main goal is to encode the data in a much more efficient way** In other words is to create meaningful embeddings<br>\n",
        "- As the model processes each word (each position in the input sequence), self attention allows it to look at other positions in the input sequence for clues that can help lead to a better encoding for this word.\n",
        "\n",
        "\n",
        "**How does Self-Attention work?**\n",
        "\n",
        "Steps:\n",
        "1. For each word, we create a **`Query`** vector, a **`Key`** vector, and a **`Value`** vector.\n",
        "  - What are the **`Query`** vector, a **`Key`** vector, and a **`Value`** vector? : They’re abstractions that are useful for calculating attention... They are a breakdown of the word embeddings\n",
        "2. Calculating self-attention score from **`Query`** **`Key`** vector.\n",
        "3. Divide the scores by 8 (This leads to having more stable gradients)\n",
        "4. Pass the result through a softmax operation (softmax score determines how much each word will be expressed at this position)\n",
        "5. Multiply each value vector by the softmax score\n",
        "6. Sum up the weighted value vectors"
      ]
    },
    {
      "cell_type": "markdown",
      "metadata": {
        "id": "2RevROKUGFOX"
      },
      "source": [
        "### Step 1\n",
        "\n",
        "For each word, we create a **`Query`** vector, a **`Key`** vector, and a **`Value`** vector.\n",
        "\n",
        "![](http://jalammar.github.io/images/t/transformer_self_attention_vectors.png)"
      ]
    },
    {
      "cell_type": "code",
      "execution_count": null,
      "metadata": {
        "id": "YDahLOTBDVDP"
      },
      "outputs": [],
      "source": [
        "# simple sequence = I am here today\n",
        "simple_sequence_embedding = torch.rand((4, 512))\n",
        "\n",
        "# Create weight matrices\n",
        "Wq = torch.normal(0,0.5, (512, 7))\n",
        "Wk = torch.normal(0,0.1, (512, 7))\n",
        "Wv = torch.normal(0,0.2, (512, 7))\n",
        "\n",
        "# Create key, query and value for each word in the senetence\n",
        "queries = simple_sequence_embedding.mm(Wq) # self.q(embedding[0])\n",
        "keys = simple_sequence_embedding.mm(Wk)\n",
        "values = simple_sequence_embedding.mm(Wv)"
      ]
    },
    {
      "cell_type": "code",
      "execution_count": null,
      "metadata": {
        "colab": {
          "base_uri": "https://localhost:8080/"
        },
        "id": "a2dceawSN2PQ",
        "outputId": "77229293-d009-465f-ec00-f5c0bc9d86ec"
      },
      "outputs": [
        {
          "output_type": "execute_result",
          "data": {
            "text/plain": [
              "tensor([[-0.9431,  2.2429, -1.4976,  1.4453,  2.3804, -0.6668, -0.3153],\n",
              "        [ 1.0690,  1.9116, -3.2465,  0.6282,  0.9388, -2.8510, -1.0129],\n",
              "        [ 0.0309,  3.0505, -2.3856, -0.0125, -0.0168, -4.0641,  0.8794],\n",
              "        [-1.6612,  2.0367, -0.5448,  1.7356,  1.2407, -2.7459, -1.3949]])"
            ]
          },
          "metadata": {},
          "execution_count": 34
        }
      ],
      "source": [
        "values"
      ]
    },
    {
      "cell_type": "code",
      "execution_count": null,
      "metadata": {
        "colab": {
          "base_uri": "https://localhost:8080/"
        },
        "id": "FhXQl2p8Nzp_",
        "outputId": "a916096a-f073-4938-d3dd-e9d541e52a7c"
      },
      "outputs": [
        {
          "output_type": "execute_result",
          "data": {
            "text/plain": [
              "tensor([[0.3820, 0.4833, 0.7283,  ..., 0.7201, 0.4370, 0.6838],\n",
              "        [0.0969, 0.7248, 0.2339,  ..., 0.3183, 0.0909, 0.3160],\n",
              "        [0.3724, 0.0760, 0.2922,  ..., 0.5227, 0.4353, 0.1027],\n",
              "        [0.6361, 0.9490, 0.9695,  ..., 0.5571, 0.9913, 0.0671]])"
            ]
          },
          "metadata": {},
          "execution_count": 28
        }
      ],
      "source": [
        "simple_sequence_embedding"
      ]
    },
    {
      "cell_type": "markdown",
      "metadata": {
        "id": "gueARUu0KFVm"
      },
      "source": [
        "## Step 2\n",
        "\n",
        "Calculating self-attention score from **`Query`** and **`Key`** vector"
      ]
    },
    {
      "cell_type": "code",
      "execution_count": null,
      "metadata": {
        "colab": {
          "base_uri": "https://localhost:8080/"
        },
        "id": "6TwUclKXLN14",
        "outputId": "49cb0e0f-0e59-46d2-cf72-0b62873ec904"
      },
      "outputs": [
        {
          "output_type": "execute_result",
          "data": {
            "text/plain": [
              "tensor([[47.3834, 40.2896, 38.8234, 79.1502],\n",
              "        [48.7963, 41.6318, 35.0864, 78.1837],\n",
              "        [45.2341, 41.0687, 32.6231, 71.3646],\n",
              "        [44.4938, 33.5259, 17.7919, 77.1678]])"
            ]
          },
          "metadata": {},
          "execution_count": 31
        }
      ],
      "source": [
        "scores = torch.mm(queries, keys.T)\n",
        "scores"
      ]
    },
    {
      "cell_type": "markdown",
      "metadata": {
        "id": "FZugp0egQEPQ"
      },
      "source": [
        "## Step 3\n",
        "Divide the scores by 8 (This leads to having more stable gradients)"
      ]
    },
    {
      "cell_type": "code",
      "execution_count": null,
      "metadata": {
        "colab": {
          "base_uri": "https://localhost:8080/"
        },
        "id": "gA1G9MmeQPuP",
        "outputId": "1f2fcf78-de48-4987-d17d-4c2a56e6a7c6"
      },
      "outputs": [
        {
          "output_type": "execute_result",
          "data": {
            "text/plain": [
              "tensor([[5.9229, 5.0362, 4.8529, 9.8938],\n",
              "        [6.0995, 5.2040, 4.3858, 9.7730],\n",
              "        [5.6543, 5.1336, 4.0779, 8.9206],\n",
              "        [5.5617, 4.1907, 2.2240, 9.6460]])"
            ]
          },
          "metadata": {},
          "execution_count": 32
        }
      ],
      "source": [
        "scores = scores / 8\n",
        "scores"
      ]
    },
    {
      "cell_type": "markdown",
      "metadata": {
        "id": "a-MZsAkWQWlp"
      },
      "source": [
        "## Step 4\n",
        "\n",
        "Pass the result through a softmax operation"
      ]
    },
    {
      "cell_type": "code",
      "execution_count": null,
      "metadata": {
        "colab": {
          "base_uri": "https://localhost:8080/"
        },
        "id": "0_hpI-SNKqAA",
        "outputId": "88415710-2b74-4442-ba93-e1b47981f081"
      },
      "outputs": [
        {
          "output_type": "execute_result",
          "data": {
            "text/plain": [
              "tensor([[1.8253e-02, 7.5205e-03, 6.2611e-03, 9.6797e-01],\n",
              "        [2.4405e-02, 9.9666e-03, 4.3976e-03, 9.6123e-01],\n",
              "        [3.5695e-02, 2.1207e-02, 7.3789e-03, 9.3572e-01],\n",
              "        [1.6478e-02, 4.1831e-03, 5.8525e-04, 9.7875e-01]])"
            ]
          },
          "metadata": {},
          "execution_count": 33
        }
      ],
      "source": [
        "scores = torch.nn.functional.softmax(scores, dim=1)\n",
        "scores"
      ]
    },
    {
      "cell_type": "markdown",
      "metadata": {
        "id": "HskCcOiRQlam"
      },
      "source": [
        "## Step 5 & 6\n",
        "\n",
        "* Multiply each value vector by the softmax score\n",
        "* Sum up the weighted value vectors\n",
        "\n"
      ]
    },
    {
      "cell_type": "code",
      "execution_count": null,
      "metadata": {
        "colab": {
          "base_uri": "https://localhost:8080/"
        },
        "id": "aT3lZwy4TLK1",
        "outputId": "c0ca09e9-cce2-4ee0-c577-8e0dbfc013e5"
      },
      "outputs": [
        {
          "data": {
            "text/plain": [
              "(torch.Size([4, 4]), torch.Size([4, 7]))"
            ]
          },
          "execution_count": 10,
          "metadata": {},
          "output_type": "execute_result"
        }
      ],
      "source": [
        "scores.shape, values.shape"
      ]
    },
    {
      "cell_type": "code",
      "execution_count": null,
      "metadata": {
        "colab": {
          "base_uri": "https://localhost:8080/"
        },
        "id": "wDsYOfEnHWVq",
        "outputId": "477a3083-d79c-41da-815c-694777f42879"
      },
      "outputs": [
        {
          "output_type": "execute_result",
          "data": {
            "text/plain": [
              "tensor([[-1.6170,  2.0458, -0.5940,  1.7110,  1.2514, -2.7170, -1.3581],\n",
              "        [-1.6091,  2.0449, -0.6031,  1.7098,  1.2600, -2.7020, -1.3548],\n",
              "        [-1.5652,  2.0489, -0.6497,  1.6889,  1.2657, -2.6836, -1.3315],\n",
              "        [-1.6370,  2.0401, -0.5729,  1.7252,  1.2575, -2.7128, -1.3742]])"
            ]
          },
          "metadata": {},
          "execution_count": 35
        }
      ],
      "source": [
        "z = scores @ values\n",
        "z"
      ]
    },
    {
      "cell_type": "markdown",
      "metadata": {
        "id": "tbCd2yNhzGv5"
      },
      "source": [
        "# Multi-headed attention\n",
        "\n",
        "**GOAL**:\n",
        "1. Expand the model’s ability to focus on different positions\n",
        "2. Provide the attention layer multiple “representation subspaces”\n",
        "\n",
        "**Attention with $N$ just means repeating self attention algorithm $N$ times and joining the results**\n",
        "\n",
        "\n",
        "![](https://data-science-blog.com/wp-content/uploads/2022/01/mha_img_original.png)\n",
        "\n",
        "**Multi-headed attention steps:**\n",
        "1. Same as self-attention calculation, just n different times with different weight matrices\n",
        "2. Condense the $N$ z metrices down into a single matrix by concatinating the matrices then multiply them by an additional weights matrix `WO`\n",
        "\n",
        "Now the output z metrix is fed to the FFNN"
      ]
    },
    {
      "cell_type": "code",
      "execution_count": null,
      "metadata": {
        "id": "99lM0p2IUd2k"
      },
      "outputs": [],
      "source": [
        "from torch import Tensor\n",
        "import torch.nn.functional as f\n",
        "\n",
        "\n",
        "def scaled_dot_product_attention(query, key, value):\n",
        "  temp = query.bmm(key.transpose(1, 2))\n",
        "  scale = query.size(-1) ** 0.5\n",
        "  softmax = f.softmax(temp / scale, dim=-1)\n",
        "  return softmax.bmm(value)"
      ]
    },
    {
      "cell_type": "markdown",
      "metadata": {
        "id": "Sph09F-Qdlw1"
      },
      "source": [
        "## Now lets make attention head"
      ]
    },
    {
      "cell_type": "code",
      "execution_count": null,
      "metadata": {
        "id": "MfKQevaDdrQu"
      },
      "outputs": [],
      "source": [
        "import torch.nn as nn\n",
        "\n",
        "class AttentionHead(nn.Module):\n",
        "    def __init__(self, dim_in, dim_q, dim_k):\n",
        "        super().__init__()\n",
        "        # Fill in the missing parts of the constructor to initialize the query, key, and value linear transformations\n",
        "        # dim_in is the input dimension, dim_q and dim_k are the output dimensions for the queries and keys/values respectively\n",
        "        # Example: dim_in 512, dim_q = dim_k 64 in the paper\n",
        "\n",
        "    def forward(self, query, key, value):\n",
        "        # Implement the forward pass by calling scaled_dot_product_attention function\n",
        "        # You need to transform the query, key, and value using the linear transformations defined in __init__\n",
        "        # Fill in with the correct method calls"
      ]
    },
    {
      "cell_type": "markdown",
      "metadata": {
        "id": "ig3CKeuseEOs"
      },
      "source": [
        "## Multi Head Attention"
      ]
    },
    {
      "cell_type": "code",
      "execution_count": null,
      "metadata": {
        "id": "L_kYFonCeD-y"
      },
      "outputs": [],
      "source": [
        "class MultiHeadToAttention(nn.Module):\n",
        "    def __init__(self, number_of_heads, dim_in, dim_q, dim_k):\n",
        "        super().__init__()\n",
        "        # Initialize heads as multi-AttentionHead instances\n",
        "        # Initialize linear to combine the outputs of all heads into a single output\n",
        "\n",
        "    def forward(self, query: Tensor, key: Tensor, value: Tensor):\n",
        "        # Concatenate outputs from all heads and apply the final linear transformation\n",
        "        return z"
      ]
    },
    {
      "cell_type": "markdown",
      "metadata": {
        "id": "nk0KG1p0UeSV"
      },
      "source": [
        "## Positional Encoding\n",
        "\n",
        "A way to account for the order of the words in the input sequence. A transformer adds a vector to each input embedding which helps it determine the position of each word. <br>\n",
        "**Goal** : preserving information about the order of tokens  \n",
        "\n",
        "Positional Encoding they can either be learned or fixed a priori.\n",
        "\n",
        "Proposed approach from original paper : describe a simple scheme for fixed positional encodings based on sine and cosine functions\n",
        "\n",
        "![](https://miro.medium.com/v2/resize:fit:640/format:webp/1*C3a9RL6-SFC6fW8NGpJg5A.png)"
      ]
    },
    {
      "cell_type": "code",
      "execution_count": null,
      "metadata": {
        "id": "q_AGKKflld67"
      },
      "outputs": [],
      "source": [
        "def position_encoding(seq_len, dim_model, device):\n",
        "    # Define the position tensor 'pos' with dimensions appropriate for sequence length\n",
        "    pos =\n",
        "\n",
        "    # Define the dimension tensor 'dim' suitable for the model dimensions\n",
        "    dim =\n",
        "\n",
        "    # Calculate the phase using the position and dimension tensors\n",
        "    phase =\n",
        "\n",
        "    # Return the sinusoidal position encoding\n",
        "    return   # Complete this line to select sin or cos based on even/odd index"
      ]
    },
    {
      "cell_type": "markdown",
      "metadata": {
        "id": "zB6Z4v4dnlYk"
      },
      "source": [
        "## Encoder Feed Forward"
      ]
    },
    {
      "cell_type": "code",
      "execution_count": null,
      "metadata": {
        "id": "19MLi_k0nuZr"
      },
      "outputs": [],
      "source": [
        "def feed_forward(dim_input = 512, dim_feedforward = 2048):\n",
        "  return nn.Sequential(nn.Linear(dim_input, dim_feedforward),\n",
        "                       nn.ReLU(),\n",
        "                       nn.Linear(dim_feedforward, dim_input)\n",
        "                       )"
      ]
    },
    {
      "cell_type": "markdown",
      "metadata": {
        "id": "ctJcODqZoNjm"
      },
      "source": [
        "## Encoder Residual\n",
        "\n",
        "From the original paper the author implementation"
      ]
    },
    {
      "cell_type": "code",
      "execution_count": null,
      "metadata": {
        "id": "Z3jxUDJxoJrh"
      },
      "outputs": [],
      "source": [
        "class Residual(nn.Module):\n",
        "  def __init__(self, sublayer, dimension, dropout = 0.1):\n",
        "    super().__init__()\n",
        "    self.sublayer = sublayer\n",
        "    self.norm = nn.LayerNorm(dimension)\n",
        "    self.dropout = nn.Dropout(dropout)\n",
        "\n",
        "  def forward(self, *tensors):\n",
        "    return self.norm(tensors[0] + self.dropout(self.sublayer(*tensors)))"
      ]
    },
    {
      "cell_type": "markdown",
      "metadata": {
        "id": "rbO7zQf6Z6oC"
      },
      "source": [
        "## Putting all together on encoder side\n",
        "\n",
        "![](http://jalammar.github.io/images/t/transformer_resideual_layer_norm_2.png)"
      ]
    },
    {
      "cell_type": "markdown",
      "metadata": {
        "id": "N_IWAB7fpdnX"
      },
      "source": [
        "## Putting the Encoder layer together"
      ]
    },
    {
      "cell_type": "code",
      "execution_count": null,
      "metadata": {
        "id": "6mclItDepir9"
      },
      "outputs": [],
      "source": [
        "class TransformerEncoderLayer(nn.Module):\n",
        "    def __init__(self, dim_model=512, num_heads=6, dim_feedforward=2048, dropout=0.1):\n",
        "        super().__init__()\n",
        "        # Define dimensions for query and key based on model dimension and number of heads\n",
        "\n",
        "        # Initialize the MultiHeadAttention component with a residual connection and dropout\n",
        "        self.attention =\n",
        "\n",
        "        # Initialize the feedforward component with a residual connection and dropout\n",
        "        self.feed_forward =\n",
        "\n",
        "    def forward(self, src):\n",
        "        # Apply the attention mechanism to the source data\n",
        "        src =\n",
        "\n",
        "        # Apply the feedforward network to the output of the attention mechanism\n",
        "        return"
      ]
    },
    {
      "cell_type": "markdown",
      "metadata": {
        "id": "HfQ17Qy2pubd"
      },
      "source": [
        "## Putting together transfomer Encoder part"
      ]
    },
    {
      "cell_type": "code",
      "execution_count": null,
      "metadata": {
        "id": "kwXf_WW-puz_"
      },
      "outputs": [],
      "source": [
        "class TransformerEncoder(nn.Module):\n",
        "    def __init__(self, num_layers=12, dim_model=512, num_heads=4, dim_feedforward=2048, dropout=0.1):\n",
        "        super().__init__()\n",
        "        # Initialize a list of TransformerEncoderLayer instances\n",
        "        self.layers =\n",
        "\n",
        "    def forward(self, src):\n",
        "        # Retrieve the sequence length and dimension from the source tensor\n",
        "        seq_len, dimension =\n",
        "\n",
        "        # Add position encoding to the source tensor\n",
        "        src +=\n",
        "\n",
        "        # Process each layer in the transformer encoder\n",
        "\n",
        "        return src"
      ]
    },
    {
      "cell_type": "markdown",
      "metadata": {
        "id": "T9iOQWX8aQn9"
      },
      "source": [
        "# The Decoder Side\n",
        "\n",
        "The encoder start by processing the input sequence. The output of the top encoder is then transformed into a set of attention vectors K and V. These are to be used by each decoder.\n",
        "\n",
        "\n",
        "![](https://jalammar.github.io/images/t/transformer_resideual_layer_norm_3.png)"
      ]
    },
    {
      "cell_type": "markdown",
      "metadata": {
        "id": "ehLixHKossPK"
      },
      "source": [
        "## Decoder layer\n",
        "\n",
        "The “Encoder-Decoder Attention” layer works just like multiheaded self-attention, except it creates its Queries matrix from the layer below it, and takes the Keys and Values matrix from the output of the encoder stack.\n",
        "\n",
        "**Task**: implement the decoder layer"
      ]
    },
    {
      "cell_type": "code",
      "source": [],
      "metadata": {
        "id": "DokpYHkAANHg"
      },
      "execution_count": null,
      "outputs": []
    },
    {
      "cell_type": "code",
      "execution_count": null,
      "metadata": {
        "id": "D8Kpvt0Gsxiq"
      },
      "outputs": [],
      "source": [
        "class TransformerDecoderLayer(nn.Module):\n",
        "    def __init__(\n",
        "        self,\n",
        "        dim_model: int = 512,\n",
        "        num_heads: int = 6,\n",
        "        dim_feedforward: int = 2048,\n",
        "        dropout: float = 0.1,\n",
        "    ):\n",
        "        super().__init__()\n",
        "        # init dim_q and dim_k as in the encoder\n",
        "        # Initialize the first self-attention layer with a residual connection\n",
        "        self.attention_1 =\n",
        "\n",
        "        # Initialize the second attention layer for interaction with the encoder output\n",
        "        self.attention_2 =\n",
        "\n",
        "        # Initialize the feed-forward network\n",
        "        self.feed_forward =\n",
        "\n",
        "    def forward(self, tgt: Tensor, memory: Tensor) -> Tensor:\n",
        "        # Self-attention mechanism\n",
        "        tgt =\n",
        "\n",
        "        # Cross-attention mechanism where the decoder attends to the encoder's output\n",
        "        tgt =\n",
        "\n",
        "        # Pass through the feed-forward network\n",
        "        return"
      ]
    },
    {
      "cell_type": "markdown",
      "metadata": {
        "id": "6g8J94rHsusT"
      },
      "source": [
        "## Full Transfomer Decoder\n",
        "\n",
        "**Task**: implement the transfomer decoder part class"
      ]
    },
    {
      "cell_type": "code",
      "execution_count": null,
      "metadata": {
        "id": "EnXSvVUUs4sy"
      },
      "outputs": [],
      "source": [
        "class TransformerDecoder(nn.Module):\n",
        "    def __init__(\n",
        "        self,\n",
        "        num_layers: int = 6,\n",
        "        dim_model: int = 512,\n",
        "        num_heads: int = 8,\n",
        "        dim_feedforward: int = 2048,\n",
        "        dropout: float = 0.1,\n",
        "    ):\n",
        "        super().__init__()\n",
        "        # Initialize laters from TransformerDecoderLayer instances\n",
        "        self.layers =\n",
        "        # Define the output linear transformation\n",
        "        self.linear =\n",
        "\n",
        "    def forward(self, tgt: Tensor, memory: Tensor) -> Tensor:\n",
        "        # Calculate sequence length and dimension from the target tensor\n",
        "        seq_len, dimension =\n",
        "\n",
        "        # Add position encoding to the target tensor\n",
        "        tgt +=\n",
        "\n",
        "        # Process each layer in the transformer decoder\n",
        "        # Code here\n",
        "\n",
        "        # Apply a softmax to the output of the final linear layer\n",
        "        return"
      ]
    },
    {
      "cell_type": "markdown",
      "metadata": {
        "id": "B-6Uav2htlEF"
      },
      "source": [
        "## Full Transfomer model\n",
        "\n",
        "**Task**:\n",
        "1. Assembly a full transfomer (Encoder + Decoder)\n",
        "2. Implement the Transfomer training loop\n",
        "3. Using dataset of your choice train the transformer just for one epoch\n"
      ]
    },
    {
      "cell_type": "code",
      "execution_count": null,
      "metadata": {
        "id": "UzfY-uEmtppU"
      },
      "outputs": [],
      "source": [
        "class Transfomer(nn.Module):\n",
        "  def __init__(self, ... ):\n",
        "    super().__init__()\n",
        "    pass\n",
        "\n",
        "  def forward(self):\n",
        "    pass"
      ]
    }
  ],
  "metadata": {
    "accelerator": "GPU",
    "colab": {
      "provenance": []
    },
    "gpuClass": "standard",
    "kernelspec": {
      "display_name": "Python 3",
      "name": "python3"
    },
    "language_info": {
      "name": "python"
    }
  },
  "nbformat": 4,
  "nbformat_minor": 0
}