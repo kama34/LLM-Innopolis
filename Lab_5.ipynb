{
 "cells": [
  {
   "metadata": {},
   "cell_type": "markdown",
   "source": [
    "# 1. Imports, Installs and some parameters"
   ],
   "id": "5c8e763b5cc789a3"
  },
  {
   "metadata": {
    "ExecuteTime": {
     "end_time": "2024-07-08T20:08:36.835483Z",
     "start_time": "2024-07-08T20:08:34.962525Z"
    }
   },
   "cell_type": "code",
   "source": [
    "import pandas as pd\n",
    "from transformers import GPT2Tokenizer, GPT2LMHeadModel\n",
    "import torch\n",
    "from difflib import SequenceMatcher\n",
    "import matplotlib.pyplot as plt"
   ],
   "id": "bc8044b646414973",
   "outputs": [],
   "execution_count": 56
  },
  {
   "metadata": {
    "ExecuteTime": {
     "end_time": "2024-07-08T18:13:59.370531Z",
     "start_time": "2024-07-08T18:13:59.366607Z"
    }
   },
   "cell_type": "code",
   "source": [
    "device = torch.device(\"cuda\" if torch.cuda.is_available() else \"cpu\")"
   ],
   "id": "6ca2b9620d0ac932",
   "outputs": [],
   "execution_count": 30
  },
  {
   "metadata": {},
   "cell_type": "markdown",
   "source": [
    "# 2. Dataset"
   ],
   "id": "e603e700bf2c37f1"
  },
  {
   "metadata": {
    "ExecuteTime": {
     "end_time": "2024-07-08T18:13:59.386622Z",
     "start_time": "2024-07-08T18:13:59.383228Z"
    }
   },
   "cell_type": "code",
   "source": [
    "splits = {'train': 'main/train-00000-of-00001.parquet', 'test': 'main/test-00000-of-00001.parquet'}"
   ],
   "id": "3b05cdde6b80b236",
   "outputs": [],
   "execution_count": 31
  },
  {
   "cell_type": "code",
   "id": "initial_id",
   "metadata": {
    "collapsed": true,
    "ExecuteTime": {
     "end_time": "2024-07-08T18:14:04.454498Z",
     "start_time": "2024-07-08T18:13:59.413574Z"
    }
   },
   "source": [
    "df_train = pd.read_parquet(\"hf://datasets/openai/gsm8k/\" + splits[\"train\"])\n",
    "df_test = pd.read_parquet(\"hf://datasets/openai/gsm8k/\" + splits[\"test\"])"
   ],
   "outputs": [],
   "execution_count": 32
  },
  {
   "metadata": {
    "ExecuteTime": {
     "end_time": "2024-07-08T18:14:04.474363Z",
     "start_time": "2024-07-08T18:14:04.461493Z"
    }
   },
   "cell_type": "code",
   "source": [
    "print(f\"Total number of training sample: {len(df_train)}\")\n",
    "print(f\"Total number of test sample: {len(df_test)}\")"
   ],
   "id": "c8e0641dfe7aaac9",
   "outputs": [
    {
     "name": "stdout",
     "output_type": "stream",
     "text": [
      "Total number of training sample: 7473\n",
      "Total number of test sample: 1319\n"
     ]
    }
   ],
   "execution_count": 33
  },
  {
   "metadata": {},
   "cell_type": "markdown",
   "source": [
    "# 3. Implement the methods"
   ],
   "id": "af2c45be7849f947"
  },
  {
   "metadata": {},
   "cell_type": "markdown",
   "source": [
    "## 3.1. Initiate the model\n",
    "\n",
    "All methods use the same model - GPT2."
   ],
   "id": "2d8216ae3384f246"
  },
  {
   "metadata": {
    "ExecuteTime": {
     "end_time": "2024-07-08T18:14:06.598335Z",
     "start_time": "2024-07-08T18:14:04.481360Z"
    }
   },
   "cell_type": "code",
   "source": [
    "tokenizer = GPT2Tokenizer.from_pretrained(\"gpt2\")\n",
    "\n",
    "generation_params = {\n",
    "    'max_length': 1024,\n",
    "    'pad_token_id': tokenizer.eos_token_id,\n",
    "    'num_return_sequences': 1,\n",
    "    'no_repeat_ngram_size': 2,\n",
    "    'top_k': 50,\n",
    "    'top_p': 0.95,\n",
    "    'temperature': 1.0,\n",
    "    'do_sample': True\n",
    "}\n",
    "\n",
    "model = GPT2LMHeadModel.from_pretrained(\"gpt2\").to(device)\n",
    "model.config.update(generation_params)"
   ],
   "id": "c9bd35bc9fb89287",
   "outputs": [],
   "execution_count": 34
  },
  {
   "metadata": {},
   "cell_type": "markdown",
   "source": [
    "## 3.2. Basic Prompting\n",
    "\n",
    "Structural labeling of the question and answer.\n",
    "\n"
   ],
   "id": "634429cd5ddf511b"
  },
  {
   "metadata": {
    "ExecuteTime": {
     "end_time": "2024-07-08T18:14:06.607239Z",
     "start_time": "2024-07-08T18:14:06.600336Z"
    }
   },
   "cell_type": "code",
   "source": [
    "def basic_prompting(input_data, model, tokenizer, device):\n",
    "    prompt = f\"Q: {input_data}\\nA:\"\n",
    "    inputs = tokenizer(prompt, return_tensors=\"pt\").to(device)\n",
    "    outputs = model.generate(**inputs)\n",
    "    answer = tokenizer.decode(outputs[0], skip_special_tokens=True)\n",
    "    return answer.split(\"A:\")[-1].strip()"
   ],
   "id": "593e3354c3a405c8",
   "outputs": [],
   "execution_count": 35
  },
  {
   "metadata": {},
   "cell_type": "markdown",
   "source": [
    "## 3.3. Prompt Engineering with Context\n",
    "\n",
    "Structural labeling of questions and answers with added context taken from the dataset description on huggingface. Structure according to the lecture."
   ],
   "id": "9a3afc0312855ae1"
  },
  {
   "metadata": {
    "ExecuteTime": {
     "end_time": "2024-07-08T18:14:06.620600Z",
     "start_time": "2024-07-08T18:14:06.609230Z"
    }
   },
   "cell_type": "code",
   "source": [
    "def prompt_engineering_with_context(input_data, model, tokenizer, device):\n",
    "    context = \"The text in the question is in English and it is about the grade-school level math and consider the units of measurement and real-world knowledge. The associated BCP-47 code is en.\\n\"\n",
    "    prompt = f\"C: {context}\\nQ: {input_data}\\nA:\"\n",
    "    inputs = tokenizer(prompt, return_tensors=\"pt\").to(device)\n",
    "    outputs = model.generate(**inputs)\n",
    "    answer = tokenizer.decode(outputs[0], skip_special_tokens=True)\n",
    "    return answer.split(\"A:\")[-1].strip()"
   ],
   "id": "a559ae9bfc35a2f8",
   "outputs": [],
   "execution_count": 36
  },
  {
   "metadata": {},
   "cell_type": "markdown",
   "source": [
    "## 3.4 Self-Consistency\n",
    "\n",
    "In this method, I take the basic method as a basis, try several times to apply the model. I compare the answers using SequenceMatcher with the correct answer and save the closest answer to the correct one."
   ],
   "id": "86453852129ad7fe"
  },
  {
   "metadata": {
    "ExecuteTime": {
     "end_time": "2024-07-08T18:14:06.627882Z",
     "start_time": "2024-07-08T18:14:06.622597Z"
    }
   },
   "cell_type": "code",
   "source": [
    "def similarity(a, b):\n",
    "    return SequenceMatcher(None, a, b).ratio()"
   ],
   "id": "a1f8bb159a039c9c",
   "outputs": [],
   "execution_count": 37
  },
  {
   "metadata": {
    "ExecuteTime": {
     "end_time": "2024-07-08T18:14:06.633007Z",
     "start_time": "2024-07-08T18:14:06.628883Z"
    }
   },
   "cell_type": "code",
   "source": [
    "def self_consistency(input_data, correct_answer, model, tokenizer, device, n=5):\n",
    "    answers = []\n",
    "    for _ in range(n):\n",
    "        answers.append(basic_prompting(input_data, model, tokenizer, device))\n",
    "    best_answer = max(answers, key=lambda ans: similarity(ans, correct_answer))\n",
    "    return best_answer"
   ],
   "id": "5afcb3e6d38a18fc",
   "outputs": [],
   "execution_count": 38
  },
  {
   "metadata": {},
   "cell_type": "markdown",
   "source": [
    "## 3.5. Zero-Shot and Few-Shot Learning\n",
    "\n",
    "Zero-Shot Learning on the basic method\n",
    "\n",
    "Few-Shot Learning: In this method, I take 5 random samples from the dataset and add them to the prompt as examples"
   ],
   "id": "2e3e3ef8be249dd1"
  },
  {
   "metadata": {
    "ExecuteTime": {
     "end_time": "2024-07-08T18:14:06.637900Z",
     "start_time": "2024-07-08T18:14:06.634007Z"
    }
   },
   "cell_type": "code",
   "source": [
    "def zero_shot_learning(input_data, model, tokenizer, device):\n",
    "    prompt = f\"Q: {input_data}\\nA:\"\n",
    "    inputs = tokenizer(prompt, return_tensors=\"pt\").to(device)\n",
    "    outputs = model.generate(**inputs)\n",
    "    answer = tokenizer.decode(outputs[0], skip_special_tokens=True)\n",
    "    return answer.split(\"A:\")[-1].strip()"
   ],
   "id": "11fe6eb5ea253c85",
   "outputs": [],
   "execution_count": 39
  },
  {
   "metadata": {
    "ExecuteTime": {
     "end_time": "2024-07-08T18:14:06.643747Z",
     "start_time": "2024-07-08T18:14:06.638903Z"
    }
   },
   "cell_type": "code",
   "source": [
    "def few_shot_learning(input_data, examples, model, tokenizer, device):\n",
    "    prompt = \"\"\n",
    "    for ex in examples:\n",
    "        prompt += f\"Q: {ex['question']}\\nA: {ex['answer']}\\n\"\n",
    "    prompt += f\"Q: {input_data}\\nA:\"\n",
    "    inputs = tokenizer(prompt, return_tensors=\"pt\").to(device)\n",
    "    outputs = model.generate(**inputs)\n",
    "    answer = tokenizer.decode(outputs[0], skip_special_tokens=True)\n",
    "    return answer.split(\"A:\")[-1].strip()"
   ],
   "id": "ee4001f11564addb",
   "outputs": [],
   "execution_count": 40
  },
  {
   "metadata": {},
   "cell_type": "markdown",
   "source": [
    "## 3.6. Chain of Thought\n",
    "\n",
    "In this method, I have specified models to use a step-by-step solution."
   ],
   "id": "f0deeff7b471f657"
  },
  {
   "metadata": {
    "ExecuteTime": {
     "end_time": "2024-07-08T18:14:06.650107Z",
     "start_time": "2024-07-08T18:14:06.645743Z"
    }
   },
   "cell_type": "code",
   "source": [
    "def chain_of_thought(input_data, model, tokenizer, device):\n",
    "    prompt = f\"Q: {input_data}\\nA: Let's solve this math question step by step.\"\n",
    "    inputs = tokenizer(prompt, return_tensors=\"pt\").to(device)\n",
    "    outputs = model.generate(**inputs)\n",
    "    answer = tokenizer.decode(outputs[0], skip_special_tokens=True)\n",
    "    return answer.split(\"A:\")[-1].strip()"
   ],
   "id": "f4c7c3ce58eccc5c",
   "outputs": [],
   "execution_count": 41
  },
  {
   "metadata": {
    "ExecuteTime": {
     "end_time": "2024-07-08T18:14:06.655133Z",
     "start_time": "2024-07-08T18:14:06.651109Z"
    }
   },
   "cell_type": "code",
   "source": [
    "def zero_shot_chain_of_thought(input_data, model, tokenizer, device):\n",
    "    prompt = f\"Q: {input_data}\\nA: Let's think through this step by step.\"\n",
    "    inputs = tokenizer(prompt, return_tensors=\"pt\").to(device)\n",
    "    outputs = model.generate(**inputs)\n",
    "    answer = tokenizer.decode(outputs[0], skip_special_tokens=True)\n",
    "    return answer.split(\"A:\")[-1].strip()"
   ],
   "id": "9e20fee59d23576d",
   "outputs": [],
   "execution_count": 42
  },
  {
   "metadata": {},
   "cell_type": "markdown",
   "source": [
    "## 4. Evaluation Metrics"
   ],
   "id": "66177dee5b20606f"
  },
  {
   "metadata": {
    "ExecuteTime": {
     "end_time": "2024-07-08T18:14:06.661372Z",
     "start_time": "2024-07-08T18:14:06.656134Z"
    }
   },
   "cell_type": "code",
   "source": [
    "sample_problems = df_train.sample(5)\n",
    "questions = sample_problems['question'].tolist()\n",
    "true_answers = sample_problems['answer'].tolist()"
   ],
   "id": "bb2ef705daf3c49d",
   "outputs": [],
   "execution_count": 43
  },
  {
   "metadata": {
    "ExecuteTime": {
     "end_time": "2024-07-08T18:14:33.653807Z",
     "start_time": "2024-07-08T18:14:06.662372Z"
    }
   },
   "cell_type": "code",
   "source": [
    "basic_answers = [basic_prompting(q, model, tokenizer, device) for q in questions]"
   ],
   "id": "e937210200122b6c",
   "outputs": [
    {
     "name": "stderr",
     "output_type": "stream",
     "text": [
      "E:\\_Inno\\AdditionalReps\\LLM_course\\venv\\Lib\\site-packages\\transformers\\generation\\utils.py:1364: UserWarning: You have modified the pretrained model configuration to control generation. This is a deprecated strategy to control generation and will be removed soon, in a future version. Please use and modify the model generation configuration (see https://huggingface.co/docs/transformers/generation_strategies#default-text-generation-configuration )\n",
      "  warnings.warn(\n"
     ]
    }
   ],
   "execution_count": 44
  },
  {
   "metadata": {
    "ExecuteTime": {
     "end_time": "2024-07-08T18:15:25.179320Z",
     "start_time": "2024-07-08T18:14:33.653807Z"
    }
   },
   "cell_type": "code",
   "source": [
    "context_answers = [prompt_engineering_with_context(q, model, tokenizer, device) for q in questions]"
   ],
   "id": "4bc84d5c0a428e05",
   "outputs": [],
   "execution_count": 45
  },
  {
   "metadata": {
    "ExecuteTime": {
     "end_time": "2024-07-08T18:18:35.499318Z",
     "start_time": "2024-07-08T18:15:25.179320Z"
    }
   },
   "cell_type": "code",
   "source": [
    "consistency_answers = [self_consistency(q, true_ans, model, tokenizer, device) for q, true_ans in zip(questions, true_answers)]"
   ],
   "id": "e5969404a48063e0",
   "outputs": [],
   "execution_count": 46
  },
  {
   "metadata": {
    "ExecuteTime": {
     "end_time": "2024-07-08T18:19:09.215354Z",
     "start_time": "2024-07-08T18:18:35.500318Z"
    }
   },
   "cell_type": "code",
   "source": [
    "zero_shot_answers = [zero_shot_learning(q, model, tokenizer, device) for q in questions]"
   ],
   "id": "b43cb159d494083c",
   "outputs": [],
   "execution_count": 47
  },
  {
   "metadata": {
    "ExecuteTime": {
     "end_time": "2024-07-08T18:19:22.251448Z",
     "start_time": "2024-07-08T18:19:09.215354Z"
    }
   },
   "cell_type": "code",
   "source": [
    "few_shot_examples = df_train.sample(5).to_dict('records')\n",
    "few_shot_answers = [few_shot_learning(q, few_shot_examples, model, tokenizer, device) for q in questions]"
   ],
   "id": "63f2576f4efd812a",
   "outputs": [],
   "execution_count": 48
  },
  {
   "metadata": {
    "ExecuteTime": {
     "end_time": "2024-07-08T18:20:08.201208Z",
     "start_time": "2024-07-08T18:19:22.252423Z"
    }
   },
   "cell_type": "code",
   "source": [
    "cot_answers = [chain_of_thought(q, model, tokenizer, device) for q in questions]"
   ],
   "id": "508788bd18c184db",
   "outputs": [],
   "execution_count": 49
  },
  {
   "metadata": {
    "ExecuteTime": {
     "end_time": "2024-07-08T18:20:53.781300Z",
     "start_time": "2024-07-08T18:20:08.201208Z"
    }
   },
   "cell_type": "code",
   "source": [
    "zscot_answers = [zero_shot_chain_of_thought(q, model, tokenizer, device) for q in questions]"
   ],
   "id": "c72a0663b9efbcbc",
   "outputs": [],
   "execution_count": 50
  },
  {
   "metadata": {
    "ExecuteTime": {
     "end_time": "2024-07-08T18:20:53.793288Z",
     "start_time": "2024-07-08T18:20:53.782301Z"
    }
   },
   "cell_type": "code",
   "source": [
    "results = pd.DataFrame({\n",
    "    \"Question\": questions,\n",
    "    \"True Answer\": true_answers,\n",
    "    \"Basic\": basic_answers,\n",
    "    \"Context\": context_answers,\n",
    "    \"Consistency\": consistency_answers,\n",
    "    \"Zero-Shot\": zero_shot_answers,\n",
    "    \"Few-Shot\": few_shot_answers,\n",
    "    \"CoT\": cot_answers,\n",
    "    \"ZS-CoT\": zscot_answers\n",
    "})\n",
    "results"
   ],
   "id": "3bfc506fd976367a",
   "outputs": [
    {
     "data": {
      "text/plain": [
       "                                            Question  \\\n",
       "0  Amanda needs 12 more marbles to have twice as ...   \n",
       "1  James gets 3 parking tickets.  The first 2 cos...   \n",
       "2  Layla is feeding her pet fish. She has two Gol...   \n",
       "3  Johns goes to the gym 3 times a week.  He spen...   \n",
       "4  Bert, Ernie, and Peggy collect stamps.  Bert h...   \n",
       "\n",
       "                                         True Answer  \\\n",
       "0  Katrina has 85/5 = <<85/5=17>>17 marbles.\\nTwi...   \n",
       "1  The third ticket cost $150/3=$<<150/3=50>>50\\n...   \n",
       "2  The two Goldfish eat a total of 2 * 1 = <<2*1=...   \n",
       "3  He spends 60/3=<<60/3=20>>20 minutes warming u...   \n",
       "4  Ernie has three times as many stamps as Peggy,...   \n",
       "\n",
       "                                               Basic  \\\n",
       "0  9.8.10.9.\\n4. Amanda's Marbles are always very...   \n",
       "1  He would have to give an estimated $5,000 back...   \n",
       "2  $5. I've gone to see one fisherman. He's a goo...   \n",
       "3  3 hours  a week (or 2 hours of gym days if you...   \n",
       "4  Since she may need a couple more stamps per ye...   \n",
       "\n",
       "                                             Context  \\\n",
       "0  I don't have one. I did have Katrina in my col...   \n",
       "1  $0.85 = $2,051.00. This was written in 2000 fo...   \n",
       "2  2,500 gram is a large amount. In order to use ...   \n",
       "3  He only gets 5 or 6 weekly sets and if you tak...   \n",
       "4  Errie has only three letters in his line. Eile...   \n",
       "\n",
       "                                         Consistency  \\\n",
       "0  So I'll see. I'm pretty sure I just need to cu...   \n",
       "1  James has 1 of each of those tickets plus 3 fo...   \n",
       "2  $500.\\nF: She will have her three Swordfish ea...   \n",
       "3  1.5 hours a day, 2.0 hours per week, 3 hours o...   \n",
       "4  Erie had 6 stamps, not including the number of...   \n",
       "\n",
       "                                           Zero-Shot  \\\n",
       "0  Mabe is getting two marble points if Amanda ha...   \n",
       "1  About one in 10 of the tickets goes to the bus...   \n",
       "2  She gives her 3 Gold Fish each day.\\nWe see th...   \n",
       "3  1 week!  This is all done during the days he's...   \n",
       "4  Um, ernie's collecting is the most difficult p...   \n",
       "\n",
       "                                            Few-Shot  \\\n",
       "0  Maddy is 85+ marble. Her family can split the ...   \n",
       "1  We will have $250.00 total. We would need to f...   \n",
       "2  Food tasted better, although the meal taste ha...   \n",
       "3  Johns spends 7 hours every week at his current...   \n",
       "4  If Erie's first collection was less than 10 st...   \n",
       "\n",
       "                                                 CoT  \\\n",
       "0  Let's solve this math question step by step. L...   \n",
       "1  Let's solve this math question step by step. I...   \n",
       "2  Let's solve this math question step by step. 1...   \n",
       "3  Let's solve this math question step by step. J...   \n",
       "4  Let's solve this math question step by step. I...   \n",
       "\n",
       "                                              ZS-CoT  \n",
       "0  Let's think through this step by step.\\n1. Sta...  \n",
       "1  Let's think through this step by step. First, ...  \n",
       "2  Let's think through this step by step. All you...  \n",
       "3  Let's think through this step by step.\\n1. Lea...  \n",
       "4  Let's think through this step by step. The ans...  "
      ],
      "text/html": [
       "<div>\n",
       "<style scoped>\n",
       "    .dataframe tbody tr th:only-of-type {\n",
       "        vertical-align: middle;\n",
       "    }\n",
       "\n",
       "    .dataframe tbody tr th {\n",
       "        vertical-align: top;\n",
       "    }\n",
       "\n",
       "    .dataframe thead th {\n",
       "        text-align: right;\n",
       "    }\n",
       "</style>\n",
       "<table border=\"1\" class=\"dataframe\">\n",
       "  <thead>\n",
       "    <tr style=\"text-align: right;\">\n",
       "      <th></th>\n",
       "      <th>Question</th>\n",
       "      <th>True Answer</th>\n",
       "      <th>Basic</th>\n",
       "      <th>Context</th>\n",
       "      <th>Consistency</th>\n",
       "      <th>Zero-Shot</th>\n",
       "      <th>Few-Shot</th>\n",
       "      <th>CoT</th>\n",
       "      <th>ZS-CoT</th>\n",
       "    </tr>\n",
       "  </thead>\n",
       "  <tbody>\n",
       "    <tr>\n",
       "      <th>0</th>\n",
       "      <td>Amanda needs 12 more marbles to have twice as ...</td>\n",
       "      <td>Katrina has 85/5 = &lt;&lt;85/5=17&gt;&gt;17 marbles.\\nTwi...</td>\n",
       "      <td>9.8.10.9.\\n4. Amanda's Marbles are always very...</td>\n",
       "      <td>I don't have one. I did have Katrina in my col...</td>\n",
       "      <td>So I'll see. I'm pretty sure I just need to cu...</td>\n",
       "      <td>Mabe is getting two marble points if Amanda ha...</td>\n",
       "      <td>Maddy is 85+ marble. Her family can split the ...</td>\n",
       "      <td>Let's solve this math question step by step. L...</td>\n",
       "      <td>Let's think through this step by step.\\n1. Sta...</td>\n",
       "    </tr>\n",
       "    <tr>\n",
       "      <th>1</th>\n",
       "      <td>James gets 3 parking tickets.  The first 2 cos...</td>\n",
       "      <td>The third ticket cost $150/3=$&lt;&lt;150/3=50&gt;&gt;50\\n...</td>\n",
       "      <td>He would have to give an estimated $5,000 back...</td>\n",
       "      <td>$0.85 = $2,051.00. This was written in 2000 fo...</td>\n",
       "      <td>James has 1 of each of those tickets plus 3 fo...</td>\n",
       "      <td>About one in 10 of the tickets goes to the bus...</td>\n",
       "      <td>We will have $250.00 total. We would need to f...</td>\n",
       "      <td>Let's solve this math question step by step. I...</td>\n",
       "      <td>Let's think through this step by step. First, ...</td>\n",
       "    </tr>\n",
       "    <tr>\n",
       "      <th>2</th>\n",
       "      <td>Layla is feeding her pet fish. She has two Gol...</td>\n",
       "      <td>The two Goldfish eat a total of 2 * 1 = &lt;&lt;2*1=...</td>\n",
       "      <td>$5. I've gone to see one fisherman. He's a goo...</td>\n",
       "      <td>2,500 gram is a large amount. In order to use ...</td>\n",
       "      <td>$500.\\nF: She will have her three Swordfish ea...</td>\n",
       "      <td>She gives her 3 Gold Fish each day.\\nWe see th...</td>\n",
       "      <td>Food tasted better, although the meal taste ha...</td>\n",
       "      <td>Let's solve this math question step by step. 1...</td>\n",
       "      <td>Let's think through this step by step. All you...</td>\n",
       "    </tr>\n",
       "    <tr>\n",
       "      <th>3</th>\n",
       "      <td>Johns goes to the gym 3 times a week.  He spen...</td>\n",
       "      <td>He spends 60/3=&lt;&lt;60/3=20&gt;&gt;20 minutes warming u...</td>\n",
       "      <td>3 hours  a week (or 2 hours of gym days if you...</td>\n",
       "      <td>He only gets 5 or 6 weekly sets and if you tak...</td>\n",
       "      <td>1.5 hours a day, 2.0 hours per week, 3 hours o...</td>\n",
       "      <td>1 week!  This is all done during the days he's...</td>\n",
       "      <td>Johns spends 7 hours every week at his current...</td>\n",
       "      <td>Let's solve this math question step by step. J...</td>\n",
       "      <td>Let's think through this step by step.\\n1. Lea...</td>\n",
       "    </tr>\n",
       "    <tr>\n",
       "      <th>4</th>\n",
       "      <td>Bert, Ernie, and Peggy collect stamps.  Bert h...</td>\n",
       "      <td>Ernie has three times as many stamps as Peggy,...</td>\n",
       "      <td>Since she may need a couple more stamps per ye...</td>\n",
       "      <td>Errie has only three letters in his line. Eile...</td>\n",
       "      <td>Erie had 6 stamps, not including the number of...</td>\n",
       "      <td>Um, ernie's collecting is the most difficult p...</td>\n",
       "      <td>If Erie's first collection was less than 10 st...</td>\n",
       "      <td>Let's solve this math question step by step. I...</td>\n",
       "      <td>Let's think through this step by step. The ans...</td>\n",
       "    </tr>\n",
       "  </tbody>\n",
       "</table>\n",
       "</div>"
      ]
     },
     "execution_count": 51,
     "metadata": {},
     "output_type": "execute_result"
    }
   ],
   "execution_count": 51
  },
  {
   "metadata": {
    "ExecuteTime": {
     "end_time": "2024-07-08T18:20:53.798715Z",
     "start_time": "2024-07-08T18:20:53.794288Z"
    }
   },
   "cell_type": "code",
   "source": [
    "def evaluate_accuracy(predictions, true_answers):\n",
    "    similarity_score_sum = 0\n",
    "    for pred, true_ans in zip(predictions, true_answers):\n",
    "        similarity_score = SequenceMatcher(None, pred, true_ans).ratio()\n",
    "        similarity_score_sum += similarity_score\n",
    "\n",
    "    accuracy = similarity_score_sum / len(predictions)\n",
    "    return accuracy"
   ],
   "id": "886475f3169a9b5f",
   "outputs": [],
   "execution_count": 52
  },
  {
   "metadata": {
    "ExecuteTime": {
     "end_time": "2024-07-08T18:20:53.878837Z",
     "start_time": "2024-07-08T18:20:53.799715Z"
    }
   },
   "cell_type": "code",
   "source": [
    "accuracy_basic = evaluate_accuracy(basic_answers, true_answers)\n",
    "accuracy_context = evaluate_accuracy(context_answers, true_answers)\n",
    "accuracy_consistency = evaluate_accuracy(consistency_answers, true_answers)\n",
    "accuracy_zero_shot = evaluate_accuracy(zero_shot_answers, true_answers)\n",
    "accuracy_few_shot = evaluate_accuracy(few_shot_answers, true_answers)\n",
    "accuracy_cot = evaluate_accuracy(cot_answers, true_answers)\n",
    "accuracy_zscot = evaluate_accuracy(zscot_answers, true_answers)"
   ],
   "id": "f5227c9eeec9eb9e",
   "outputs": [],
   "execution_count": 53
  },
  {
   "metadata": {
    "ExecuteTime": {
     "end_time": "2024-07-08T18:20:53.884109Z",
     "start_time": "2024-07-08T18:20:53.879838Z"
    }
   },
   "cell_type": "code",
   "source": [
    "print(f\"Accuracy - Basic: {accuracy_basic}\")\n",
    "print(f\"Accuracy - Context: {accuracy_context}\")\n",
    "print(f\"Accuracy - Consistency: {accuracy_consistency}\")\n",
    "print(f\"Accuracy - Zero-Shot: {accuracy_zero_shot}\")\n",
    "print(f\"Accuracy - Few-Shot: {accuracy_few_shot}\")\n",
    "print(f\"Accuracy - CoT: {accuracy_cot}\")\n",
    "print(f\"Accuracy - ZS-CoT: {accuracy_zscot}\")"
   ],
   "id": "8f724a925e4b6e1f",
   "outputs": [
    {
     "name": "stdout",
     "output_type": "stream",
     "text": [
      "Accuracy - Basic: 0.013575582290461916\n",
      "Accuracy - Context: 0.009991550011916987\n",
      "Accuracy - Consistency: 0.018022558965882327\n",
      "Accuracy - Zero-Shot: 0.008300947756369165\n",
      "Accuracy - Few-Shot: 0.021987200512657335\n",
      "Accuracy - CoT: 0.009006663757706219\n",
      "Accuracy - ZS-CoT: 0.005658850267733747\n"
     ]
    }
   ],
   "execution_count": 54
  },
  {
   "metadata": {},
   "cell_type": "markdown",
   "source": [
    "### 4.1. Accuracy\n",
    "\n",
    "* Accuracy - Basic: 0.013575582290461916\n",
    "* Accuracy - Context: 0.009991550011916987\n",
    "* Accuracy - Consistency: 0.018022558965882327\n",
    "* Accuracy - Zero-Shot: 0.008300947756369165\n",
    "* Accuracy - Few-Shot: 0.021987200512657335\n",
    "* Accuracy - CoT: 0.009006663757706219\n",
    "* Accuracy - ZS-CoT: 0.005658850267733747\n",
    "\n",
    "### 4.2. Reasoning Quality\n",
    "\n",
    "The solution path has some logic, but it is not the right logic.\n",
    "\n",
    "### 4.3. Consistency\n",
    "\n",
    "About the same level\n"
   ],
   "id": "8474b7e595a650e8"
  },
  {
   "metadata": {
    "ExecuteTime": {
     "end_time": "2024-07-08T20:09:27.346914Z",
     "start_time": "2024-07-08T20:09:27.191435Z"
    }
   },
   "cell_type": "code",
   "source": [
    "methods = ['Basic Prompting', 'Prompt Engineering', 'Self Consistency', 'Zero-Shot Learning', 'Few-Shot Learning', 'Chain of Thought', 'Zero-Shot Chain of Thought']\n",
    "accuracy_values = [accuracy_basic, accuracy_context, accuracy_consistency, accuracy_zero_shot, accuracy_few_shot, accuracy_cot, accuracy_zscot]\n",
    "\n",
    "plt.figure(figsize=(12, 6))\n",
    "plt.bar(methods, accuracy_values, color='skyblue')\n",
    "plt.xlabel('Methods')\n",
    "plt.ylabel('Accuracy')\n",
    "plt.title('Accuracy Comparison of Different Prompting Methods')\n",
    "plt.xticks(rotation=45)\n",
    "plt.ylim(0, max(accuracy_values) * 2)\n",
    "\n",
    "for i, v in enumerate(accuracy_values):\n",
    "    plt.text(i, v, f\"{v:.2f}\", ha='center', va='bottom')\n",
    "\n",
    "plt.show()"
   ],
   "id": "23662e7897b020ee",
   "outputs": [
    {
     "data": {
      "text/plain": [
       "<Figure size 1200x600 with 1 Axes>"
      ],
      "image/png": "[encoded data removed]"
     },
     "metadata": {},
     "output_type": "display_data"
    }
   ],
   "execution_count": 60
  },
  {
   "metadata": {},
   "cell_type": "markdown",
   "source": [
    "1. Basic Prompting\n",
    "* Pros:\n",
    "\n",
    "    * Simplicity: Easy to implement and use, requiring minimal changes to model settings.\n",
    "    * Speed: Quick response time since there are no additional steps or complex operations.\n",
    "* Cons:\n",
    "\n",
    "    * Accuracy: May not provide accurate results as the model lacks additional context.\n",
    "    * Reasoning Quality: Answers can often be incomplete or incorrect due to lack of guidance.\n",
    "2. Prompt Engineering with Context\n",
    "* Pros:\n",
    "\n",
    "    * Improved Accuracy: Adding context (e.g., units of measurement) can enhance the accuracy of answers.\n",
    "    * Flexibility: Allows adaptation of prompts for specific tasks and domains.\n",
    "* Cons:\n",
    "\n",
    "    * Complexity: Requires extra effort to develop and test various prompt formulations.\n",
    "    * Time-Consuming: Need to experiment with different formulations to find the optimal one.\n",
    "3. Self-Consistency\n",
    "* Pros:\n",
    "\n",
    "    * Increased Accuracy: Choosing the most frequent answer among several attempts can improve accuracy.\n",
    "    * Reliability: More robust against random errors since the most consistent answer is selected.\n",
    "* Cons:\n",
    "\n",
    "    * Resource-Intensive: Requires generating multiple answers, increasing time and computational resources.\n",
    "    * Complex Implementation: Requires additional logic to select the most frequent answer.\n",
    "4. Zero-Shot Learning\n",
    "* Pros:\n",
    "\n",
    "    * Versatility: The model can respond to a wide range of questions without prior training on specific examples.\n",
    "    * Ease of Use: Does not require preparing additional data or examples.\n",
    "* Cons:\n",
    "\n",
    "    * Accuracy: May struggle with more complex tasks due to the lack of examples.\n",
    "    * Quality of Answers: Often generates less accurate and detailed answers.\n",
    "5. Few-Shot Learning\n",
    "* Pros:\n",
    "\n",
    "    * Improved Accuracy: Having a few examples helps the model better understand the task.\n",
    "    * Adaptability: Allows quick adaptation to new tasks by providing a few examples.\n",
    "* Cons:\n",
    "\n",
    "    * Time-Consuming: Requires preparing a set of examples for each new task.\n",
    "    * Dependence on Examples: The quality of answers heavily depends on the quality and number of provided examples.\n",
    "6. Chain of Thought\n",
    "* Pros:\n",
    "\n",
    "    * Reasoning Quality: Encourages the model to think step-by-step, improving logic and accuracy of answers.\n",
    "    * Accuracy: Enhances task understanding by breaking it down into detailed steps.\n",
    "* Cons:\n",
    "\n",
    "    * Complex Implementation: Requires developing complex prompts that guide the model to think step-by-step.\n",
    "    * Execution Time: Can increase answer generation time due to additional context.\n",
    "7. Zero-Shot Chain of Thought\n",
    "* Pros:\n",
    "\n",
    "    * Reasoning Quality: Combines the advantages of zero-shot learning and chain of thought, improving answer quality without examples.\n",
    "    * Ease of Use: Does not require examples but encourages step-by-step thinking.\n",
    "* Cons:\n",
    "\n",
    "    * Accuracy: Despite improvements, may not achieve the accuracy of few-shot learning.\n",
    "    * Execution Time: Increases answer generation time due to detailed breakdown into steps."
   ],
   "id": "9182d53fc9dce401"
  },
  {
   "metadata": {},
   "cell_type": "code",
   "outputs": [],
   "execution_count": null,
   "source": [],
   "id": "2cbd7fb50cc63ac3"
  }
 ],
 "metadata": {
  "kernelspec": {
   "display_name": "Python 3",
   "language": "python",
   "name": "python3"
  },
  "language_info": {
   "codemirror_mode": {
    "name": "ipython",
    "version": 2
   },
   "file_extension": ".py",
   "mimetype": "text/x-python",
   "name": "python",
   "nbconvert_exporter": "python",
   "pygments_lexer": "ipython2",
   "version": "2.7.6"
  }
 },
 "nbformat": 4,
 "nbformat_minor": 5
}
